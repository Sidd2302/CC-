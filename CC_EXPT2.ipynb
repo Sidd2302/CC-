{
  "nbformat": 4,
  "nbformat_minor": 0,
  "metadata": {
    "colab": {
      "provenance": [],
      "authorship_tag": "ABX9TyN3EqxRP8eTRxQV3QSsB6xF",
      "include_colab_link": true
    },
    "kernelspec": {
      "name": "python3",
      "display_name": "Python 3"
    },
    "language_info": {
      "name": "python"
    }
  },
  "cells": [
    {
      "cell_type": "markdown",
      "metadata": {
        "id": "view-in-github",
        "colab_type": "text"
      },
      "source": [
        "<a href=\"https://colab.research.google.com/github/Sidd2302/CC-/blob/main/CC_EXPT2.ipynb\" target=\"_parent\"><img src=\"https://colab.research.google.com/assets/colab-badge.svg\" alt=\"Open In Colab\"/></a>"
      ]
    },
    {
      "cell_type": "code",
      "execution_count": 2,
      "metadata": {
        "colab": {
          "base_uri": "https://localhost:8080/"
        },
        "id": "LCyRu6h74r5Q",
        "outputId": "de051836-997d-4e45-8e20-548f641fb983"
      },
      "outputs": [
        {
          "output_type": "stream",
          "name": "stdout",
          "text": [
            "Enter first number: 5\n",
            "Enter second number: 8\n",
            "The sum of 5 and 8 is 13.0\n"
          ]
        }
      ],
      "source": [
        "\n",
        "a = input('Enter first number: ')\n",
        "b= input('Enter second number: ')\n",
        "\n",
        "# Add two numbers\n",
        "sum = float(a) + float(b)\n",
        "\n",
        "# Display the sum\n",
        "print('The sum of {0} and {1} is {2}'.format(a, b, sum))\n",
        "\n"
      ]
    }
  ]
}